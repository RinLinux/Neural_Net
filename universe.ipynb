%matplotlib notebook

import numpy as np
import matplotlib.pyplot as plt

universe = np.zeros((88, 88))
Moon = [[1, 1, 0, 1], [1, 1, 0, 0], [0, 0, 1, 1], [1, 0, 1, 1]]

Earth = [[1, 1, 0, 1, 1], [1, 1, 0, 0, 1], [0, 0, 1, 1, 1], [1, 0, 1, 1, 1],[1, 0, 1, 1, 1]]

universe[10:14, 11:15] = Moon
universe[16:21, 17:22] = Earth

plt.imshow(universe, cmap='binary')
plt.show()

# https://en.wikipedia.org/wiki/Conway%27s_Game_of_Life
# Any live cell with fewer than two live neighbours dies, as if by underpopulation.
# Any live cell with two or three live neighbours lives on to the next generation.
# Any live cell with more than three live neighbours dies, as if by overpopulation.
# Any dead cell with exactly three live neighbours becomes a live cell, as if by reproduction.

new_universe = np.copy(universe)


def rule_of_life(x, y):
    number_of_neighbours = np.sum(universe[x - 1:x + 2,
                                           y - 1:y + 2]) - universe[x, y]
    if universe[x, y] == 1:
        if number_of_neighbours < 2 or number_of_neighbours > 3:
            new_universe[x, y] = 0
    elif number_of_neighbours == 3:
        new_universe[x, y] = 1


def judgement_day():
    global universe
    row = universe.shape[0]
    col = universe.shape[1]

    for i in range(row):
        for j in range(col):
            rule_of_life(i, j)

    universe = np.copy(new_universe)

    
import matplotlib.animation as animation

fig = plt.figure()
frame = []
plt.axis('off')

for i in range(1000):
    frame.append((plt.imshow(universe, cmap='Blues'), ))
    judgement_day()

img_animation = animation.ArtistAnimation(fig,
                                          frame,
                                          interval=700,
                                          repeat_delay=1000,
                                          blit=True)
