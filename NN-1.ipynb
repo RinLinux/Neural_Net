{
 "cells": [
  {
   "cell_type": "code",
   "execution_count": 1,
   "id": "a02b5e5c",
   "metadata": {},
   "outputs": [],
   "source": [
    "import numpy as np\n",
    "import math"
   ]
  },
  {
   "cell_type": "code",
   "execution_count": 2,
   "id": "c21eb083",
   "metadata": {},
   "outputs": [],
   "source": [
    "def tanh(x):\n",
    "    return np.tanh(x)\n",
    "\n",
    "def softmax(x):\n",
    "    exp = np.exp(x-x.max())\n",
    "    return exp/exp.sum()"
   ]
  },
  {
   "cell_type": "code",
   "execution_count": 3,
   "id": "bf75115e",
   "metadata": {},
   "outputs": [],
   "source": [
    "dimensions = [28*28,10]\n",
    "activations=[tanh,softmax]"
   ]
  },
  {
   "cell_type": "code",
   "execution_count": 4,
   "id": "bbed1325",
   "metadata": {},
   "outputs": [],
   "source": [
    "distributions=[\n",
    "    {'b':[0,0]},\n",
    "    {'b':[0,0],'w':[-math.sqrt(6/(dimensions[0]+dimensions[1])),math.sqrt(6/(dimensions[0]+dimensions[1]))]},\n",
    "]"
   ]
  },
  {
   "cell_type": "code",
   "execution_count": 5,
   "id": "8dbfc5ec",
   "metadata": {},
   "outputs": [],
   "source": [
    "def init_parameter_b(layer):\n",
    "    dis = distributions[layer]['b']\n",
    "    return np.random.rand(dimensions[layer])*(dis[1]-dis[0]) + dis[0]\n",
    "\n",
    "def init_parameter_w(layer):\n",
    "    dis = distributions[layer]['w']\n",
    "    return np.random.rand(dimensions[layer-1],dimensions[layer])*(dis[1]-dis[0]) + dis[0]\n",
    "\n",
    "def init_parameters():\n",
    "    parameters=[]\n",
    "    for i in range(len(distributions)):\n",
    "        layer_parameter={}\n",
    "        for j in distributions[i].keys():\n",
    "            if j=='b':\n",
    "                layer_parameter['b']=init_parameter_b(i)\n",
    "                continue\n",
    "            if j=='w':\n",
    "                layer_parameter['w']=init_parameter_w(i)\n",
    "                continue\n",
    "        parameters.append(layer_parameter)\n",
    "    return parameters"
   ]
  },
  {
   "cell_type": "code",
   "execution_count": 6,
   "id": "80216a5b",
   "metadata": {},
   "outputs": [],
   "source": [
    "parameters = init_parameters()"
   ]
  },
  {
   "cell_type": "code",
   "execution_count": 7,
   "id": "c7070eef",
   "metadata": {},
   "outputs": [],
   "source": [
    "def predict(img,parameters):\n",
    "    l0_in = img + parameters[0]['b']\n",
    "    l0_out = activations[0](l0_in)\n",
    "    l1_in = np.dot(l0_out,parameters[1]['w']) + parameters[1]['b']\n",
    "    l1_out = activations[1](l1_in)\n",
    "    return l1_out"
   ]
  },
  {
   "cell_type": "code",
   "execution_count": 8,
   "id": "b1b8eb2a",
   "metadata": {},
   "outputs": [],
   "source": [
    "# predict(np.random.rand(784),parameters).argmax()"
   ]
  },
  {
   "cell_type": "code",
   "execution_count": 9,
   "id": "18d67cac",
   "metadata": {},
   "outputs": [],
   "source": [
    "from pathlib import Path\n",
    "import struct"
   ]
  },
  {
   "cell_type": "code",
   "execution_count": 10,
   "id": "df7c1339",
   "metadata": {},
   "outputs": [],
   "source": [
    "datasets_path = Path(\"../datasets\")\n",
    "train_img_path = datasets_path/'train-images-idx3-ubyte'\n",
    "train_lab_path = datasets_path/'train-labels-idx1-ubyte'\n",
    "test_img_path = datasets_path/'t10k-images-idx3-ubyte'\n",
    "test_lab_path = datasets_path/'t10k-labels-idx1-ubyte'"
   ]
  },
  {
   "cell_type": "code",
   "execution_count": 45,
   "id": "d8ab8cea",
   "metadata": {},
   "outputs": [],
   "source": [
    "train_num = 50000\n",
    "valid_num = 10000\n",
    "test_num=10000\n",
    "\n",
    "\n",
    "\n",
    "with open(train_img_path,'rb') as f:\n",
    "    struct.unpack('>4i',f.read(16))\n",
    "    temp_img = np.fromfile(f,dtype=np.uint8).reshape(-1,28*28)\n",
    "    train_img = temp_img[:train_num]\n",
    "    valid_img = temp_img[train_num:]\n",
    "\n",
    "with open(test_img_path,'rb') as f:\n",
    "    struct.unpack('>4i',f.read(16))\n",
    "    test_img = np.fromfile(f,dtype=np.uint8).reshape(-1,28*28)\n",
    "    \n",
    "with open(train_lab_path,'rb') as f:\n",
    "    struct.unpack('>2i',f.read(8))\n",
    "    temp_lab = np.fromfile(f,dtype=np.uint8)\n",
    "    train_lab = temp_lab[:train_num]\n",
    "    valid_lab = temp_lab[train_num:]\n",
    "    \n",
    "with open(test_lab_path,'rb') as f:\n",
    "    struct.unpack('>2i',f.read(8))\n",
    "    test_lab = np.fromfile(f,dtype=np.uint8)"
   ]
  },
  {
   "cell_type": "code",
   "execution_count": 46,
   "id": "9eb3a9e2",
   "metadata": {},
   "outputs": [],
   "source": [
    "import matplotlib.pylab as plt"
   ]
  },
  {
   "cell_type": "code",
   "execution_count": 47,
   "id": "728e56fc",
   "metadata": {},
   "outputs": [],
   "source": [
    "def show_train(index):\n",
    "    plt.imshow(train_img[index].reshape(28,28),cmap='gray')\n",
    "    print(\"Lable: {}\".format(train_lab[index]))\n",
    "\n",
    "def show_valid(index):\n",
    "    plt.imshow(valid_img[index].reshape(28,28),cmap='gray')\n",
    "    print(\"Lable: {}\".format(valid_lab[index]))\n",
    "    \n",
    "def show_test(index):\n",
    "    plt.imshow(test_img[index].reshape(28,28),cmap='gray')\n",
    "    print(\"Lable: {}\".format(test_lab[index]))"
   ]
  },
  {
   "cell_type": "code",
   "execution_count": 89,
   "id": "52144aba",
   "metadata": {},
   "outputs": [
    {
     "name": "stdout",
     "output_type": "stream",
     "text": [
      "Lable: 6\n"
     ]
    },
    {
     "data": {
      "image/png": "[encoded data removed]",
      "text/plain": [
       "<Figure size 432x288 with 1 Axes>"
      ]
     },
     "metadata": {
      "needs_background": "light"
     },
     "output_type": "display_data"
    }
   ],
   "source": [
    "show_train(np.random.randint(train_num))"
   ]
  },
  {
   "cell_type": "code",
   "execution_count": 66,
   "id": "bdc89967",
   "metadata": {},
   "outputs": [
    {
     "name": "stdout",
     "output_type": "stream",
     "text": [
      "Lable: 0\n"
     ]
    },
    {
     "data": {
      "image/png": "[encoded data removed]",
      "text/plain": [
       "<Figure size 432x288 with 1 Axes>"
      ]
     },
     "metadata": {
      "needs_background": "light"
     },
     "output_type": "display_data"
    }
   ],
   "source": [
    "show_valid(np.random.randint(valid_num))"
   ]
  },
  {
   "cell_type": "code",
   "execution_count": 49,
   "id": "5c3fd52c",
   "metadata": {},
   "outputs": [
    {
     "name": "stdout",
     "output_type": "stream",
     "text": [
      "Lable: 7\n"
     ]
    },
    {
     "data": {
      "image/png": "[encoded data removed]",
      "text/plain": [
       "<Figure size 432x288 with 1 Axes>"
      ]
     },
     "metadata": {
      "needs_background": "light"
     },
     "output_type": "display_data"
    }
   ],
   "source": [
    "show_test(np.random.randint(test_num))"
   ]
  }
 ],
 "metadata": {
  "kernelspec": {
   "display_name": "Python 3",
   "language": "python",
   "name": "python3"
  },
  "language_info": {
   "codemirror_mode": {
    "name": "ipython",
    "version": 3
   },
   "file_extension": ".py",
   "mimetype": "text/x-python",
   "name": "python",
   "nbconvert_exporter": "python",
   "pygments_lexer": "ipython3",
   "version": "3.8.8"
  }
 },
 "nbformat": 4,
 "nbformat_minor": 5
}
